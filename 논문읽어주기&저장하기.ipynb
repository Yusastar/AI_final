{
 "cells": [
  {
   "cell_type": "code",
   "execution_count": 18,
   "metadata": {},
   "outputs": [
    {
     "name": "stdout",
     "output_type": "stream",
     "text": [
      "Requirement already satisfied: gtts in c:\\users\\kimyujin\\anaconda3\\lib\\site-packages (2.1.1)\n",
      "Requirement already satisfied: click in c:\\users\\kimyujin\\anaconda3\\lib\\site-packages (from gtts) (7.0)\n",
      "Requirement already satisfied: requests in c:\\users\\kimyujin\\anaconda3\\lib\\site-packages (from gtts) (2.22.0)\n",
      "Requirement already satisfied: six in c:\\users\\kimyujin\\anaconda3\\lib\\site-packages (from gtts) (1.14.0)\n",
      "Requirement already satisfied: gtts-token>=1.1.3 in c:\\users\\kimyujin\\anaconda3\\lib\\site-packages (from gtts) (1.1.3)\n",
      "Requirement already satisfied: beautifulsoup4 in c:\\users\\kimyujin\\anaconda3\\lib\\site-packages (from gtts) (4.8.2)\n",
      "Requirement already satisfied: chardet<3.1.0,>=3.0.2 in c:\\users\\kimyujin\\anaconda3\\lib\\site-packages (from requests->gtts) (3.0.4)\n",
      "Requirement already satisfied: idna<2.9,>=2.5 in c:\\users\\kimyujin\\anaconda3\\lib\\site-packages (from requests->gtts) (2.8)\n",
      "Requirement already satisfied: certifi>=2017.4.17 in c:\\users\\kimyujin\\anaconda3\\lib\\site-packages (from requests->gtts) (2019.11.28)\n",
      "Requirement already satisfied: urllib3!=1.25.0,!=1.25.1,<1.26,>=1.21.1 in c:\\users\\kimyujin\\anaconda3\\lib\\site-packages (from requests->gtts) (1.25.8)\n",
      "Requirement already satisfied: soupsieve>=1.2 in c:\\users\\kimyujin\\anaconda3\\lib\\site-packages (from beautifulsoup4->gtts) (1.9.5)\n",
      "Requirement already satisfied: pygame in c:\\users\\kimyujin\\anaconda3\\lib\\site-packages (1.9.6)\n"
     ]
    }
   ],
   "source": [
    "!pip install gtts\n",
    "!pip install pygame "
   ]
  },
  {
   "cell_type": "code",
   "execution_count": 1,
   "metadata": {},
   "outputs": [
    {
     "name": "stdout",
     "output_type": "stream",
     "text": [
      "pygame 1.9.6\n",
      "Hello from the pygame community. https://www.pygame.org/contribute.html\n"
     ]
    }
   ],
   "source": [
    "from gtts import gTTS\n",
    "from pygame import mixer\n",
    "import nltk\n",
    "from nltk.tokenize import sent_tokenize \n",
    "import re\n",
    "from nltk.corpus import *\n",
    "import random\n",
    "import string"
   ]
  },
  {
   "cell_type": "code",
   "execution_count": 2,
   "metadata": {},
   "outputs": [],
   "source": [
    "corpus_root = r'C:\\Users\\kimyujin\\Desktop\\2020 3-2학기\\인공지능\\sentence_tokenized'\n",
    "gniCorpus = PlaintextCorpusReader(corpus_root,'.*\\.txt',encoding='utf-8')"
   ]
  },
  {
   "cell_type": "code",
   "execution_count": 3,
   "metadata": {},
   "outputs": [
    {
     "name": "stdout",
     "output_type": "stream",
     "text": [
      "(1) 논문 읽기 (2) 논문 오디오파일 저장하기 (3) 취소\n",
      "    중에서 하나를 선택하세요.\n",
      "EX)1\n",
      "\n",
      "2\n"
     ]
    }
   ],
   "source": [
    "UserWant=input('(1) 논문 읽기 (2) 논문 오디오파일 저장하기 (3) 취소\\n    중에서 하나를 선택하세요.\\nEX)1\\n\\n')"
   ]
  },
  {
   "cell_type": "code",
   "execution_count": 4,
   "metadata": {},
   "outputs": [],
   "source": [
    "def ReadPaper():\n",
    "    while True:\n",
    "        whichone=input('어떤 논문을 읽어드릴까요?\\nEX) gni-16-3-59\\n\\n')\n",
    "        whichone+='.txt'\n",
    "        if whichone in gniCorpus.fileids():\n",
    "            break\n",
    "        else:\n",
    "            print('해당 논문은 존재하지 않습니다. 다시 입력해주세요\\n')\n",
    "    \n",
    "    gniraws = gniCorpus.raw(whichone)\n",
    "    language='en'\n",
    "    sent_token_raw=sent_tokenize(gniraws)\n",
    "    base=0\n",
    "    wants='1'\n",
    "    \n",
    "    while True:\n",
    "        if(wants=='1'):\n",
    "            partOfRaw=''\n",
    "            if (base+4)<=len(sent_token_raw):\n",
    "                for i in range(base,base+4):\n",
    "                    partOfRaw+=sent_token_raw[i]+' '\n",
    "            else:\n",
    "                for i in range(base, len(sent_token_raw)):\n",
    "                    partOfRaw+=sent_token_raw[i]+' '\n",
    "                \n",
    "            YujinRecog=gTTS(text=partOfRaw, lang=language, slow=False)\n",
    "            randomPath=''.join(random.choice(string.ascii_uppercase + string.digits) for _ in range(6))\n",
    "            paths=\"\"\".\\\\\"\"\"+randomPath+'.mp3'\n",
    "            \n",
    "            YujinRecog.save(paths)\n",
    "            \n",
    "            mixer.init()\n",
    "            mixer.music.load(paths)\n",
    "            mixer.music.play()\n",
    "            base=base+4\n",
    "            if(base>=len(sent_token_raw)):\n",
    "                break\n",
    "            wants=input('해당 논문을 더 읽어주길 원하면 1, 그렇지 않으면 2을 입력하세요\\n')\n",
    "            \n",
    "        elif(wants=='2'):\n",
    "            print('홈으로 돌아가기') #홈으로 돌아가게 구현해야 함\n",
    "            break\n",
    "            \n",
    "        else:\n",
    "            print('다시 입력해 주세요')"
   ]
  },
  {
   "cell_type": "code",
   "execution_count": 9,
   "metadata": {},
   "outputs": [],
   "source": [
    "def SaveFile():\n",
    "    really=input('해당 작업은 논문 길이에 따라 30분 이상이 소요될 수도 있습니다. 계속 진행하시겠습니까?\\n계속 진행하려면 yes를, 홈으로 돌아가시려면 no를 입력해주세요.')\n",
    "    if (really.upper()=='YES'):\n",
    "        while True:\n",
    "            whichone=input('어떤 논문의 오디오파일을 저장할까요?\\nEX) gni-16-3-59\\n\\n')\n",
    "            whichone+='.txt'\n",
    "            if whichone in gniCorpus.fileids():\n",
    "                break\n",
    "            else:\n",
    "                print('해당 논문은 존재하지 않습니다. 다시 입력해주세요\\n')\n",
    "    \n",
    "        gniraws = gniCorpus.raw(whichone)\n",
    "        language='en'\n",
    "        sent_token_raw=sent_tokenize(gniraws)\n",
    "        base=0\n",
    "        wants='1'\n",
    "        Filename=input('파일명은 무엇으로 할까요? 현재 디렉토리에 존재하지 않는 새로운 파일명을 입력하세요.\\n')\n",
    "        leest=[]\n",
    "        leest.append(Filename)\n",
    "    \n",
    "        while True:\n",
    "            if(wants=='1'):\n",
    "                partOfRaw=''\n",
    "                if (base+5)<=len(sent_token_raw):\n",
    "                    for i in range(base,base+5):\n",
    "                        partOfRaw+=sent_token_raw[i]+' '\n",
    "                else:\n",
    "                    for i in range(base, len(sent_token_raw)):\n",
    "                        partOfRaw+=sent_token_raw[i]+' '\n",
    "                \n",
    "                YujinRecog=gTTS(text=partOfRaw, lang=language, slow=False)\n",
    "                \n",
    "                paths=\"\"\".\\\\\"\"\"+leest[-1]+'.mp3'\n",
    "                leest.append(leest[-1]+'_')\n",
    "                YujinRecog.save(paths)\n",
    "\n",
    "                #mixer.init()\n",
    "                #mixer.music.load(paths)\n",
    "                #mixer.music.play()\n",
    "                base=base+5\n",
    "                if(base>=len(sent_token_raw)):\n",
    "                    break\n",
    "                wants=input('해당 논문의 '+str(round(((base/len(sent_token_raw))*100),3))+'% 를 오디오파일로 변환했습니다. 뒷부분을 더 변환하길 원하면 1, 그렇지 않으면 2을 입력하세요\\n')\n",
    "\n",
    "            elif(wants=='2'):\n",
    "                print('저장된 오디오파일들을 확인해보세요.\\n홈으로 돌아가기') #홈으로 돌아가게 구현해야 함\n",
    "                break\n",
    "\n",
    "            else:\n",
    "                print('다시 입력해 주세요')\n",
    "    else:\n",
    "        print('홈으로 돌아가기')"
   ]
  },
  {
   "cell_type": "code",
   "execution_count": 10,
   "metadata": {},
   "outputs": [
    {
     "name": "stdout",
     "output_type": "stream",
     "text": [
      "해당 작업은 논문 길이에 따라 30분 이상이 소요될 수도 있습니다. 계속 진행하시겠습니까?\n",
      "계속 진행하려면 yes를, 홈으로 돌아가시려면 no를 입력해주세요.YEs\n",
      "어떤 논문의 오디오파일을 저장할까요?\n",
      "EX) gni-16-3-59\n",
      "\n",
      "gni-16-3-59\n",
      "파일명은 무엇으로 할까요? 현재 디렉토리에 존재하지 않는 새로운 파일명을 입력하세요.\n",
      "가가\n",
      "해당 논문의 4.587% 를 오디오파일로 변환했습니다. 뒷부분을 더 변환하길 원하면 1, 그렇지 않으면 2을 입력하세요\n",
      "1\n",
      "해당 논문의 9.174% 를 오디오파일로 변환했습니다. 뒷부분을 더 변환하길 원하면 1, 그렇지 않으면 2을 입력하세요\n",
      "2\n",
      "저장된 오디오파일들을 확인해보세요.\n",
      "홈으로 돌아가기\n"
     ]
    }
   ],
   "source": [
    "if (UserWant=='1'):\n",
    "    ReadPaper()\n",
    "elif (UserWant=='2'):\n",
    "    SaveFile()\n",
    "else:\n",
    "    print('홈으로 돌아가기')"
   ]
  },
  {
   "cell_type": "code",
   "execution_count": null,
   "metadata": {},
   "outputs": [],
   "source": []
  }
 ],
 "metadata": {
  "kernelspec": {
   "display_name": "Python 3",
   "language": "python",
   "name": "python3"
  },
  "language_info": {
   "codemirror_mode": {
    "name": "ipython",
    "version": 3
   },
   "file_extension": ".py",
   "mimetype": "text/x-python",
   "name": "python",
   "nbconvert_exporter": "python",
   "pygments_lexer": "ipython3",
   "version": "3.7.6"
  }
 },
 "nbformat": 4,
 "nbformat_minor": 4
}
