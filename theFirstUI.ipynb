{
 "cells": [
  {
   "cell_type": "code",
   "execution_count": 1,
   "metadata": {},
   "outputs": [
    {
     "name": "stdout",
     "output_type": "stream",
     "text": [
      "Requirement already satisfied: gtts in c:\\users\\kimyujin\\anaconda3\\lib\\site-packages (2.1.1)\n",
      "Requirement already satisfied: beautifulsoup4 in c:\\users\\kimyujin\\anaconda3\\lib\\site-packages (from gtts) (4.8.2)\n",
      "Requirement already satisfied: gtts-token>=1.1.3 in c:\\users\\kimyujin\\anaconda3\\lib\\site-packages (from gtts) (1.1.3)\n",
      "Requirement already satisfied: click in c:\\users\\kimyujin\\anaconda3\\lib\\site-packages (from gtts) (7.0)\n",
      "Requirement already satisfied: requests in c:\\users\\kimyujin\\anaconda3\\lib\\site-packages (from gtts) (2.22.0)\n",
      "Requirement already satisfied: six in c:\\users\\kimyujin\\anaconda3\\lib\\site-packages (from gtts) (1.14.0)\n",
      "Requirement already satisfied: soupsieve>=1.2 in c:\\users\\kimyujin\\anaconda3\\lib\\site-packages (from beautifulsoup4->gtts) (1.9.5)\n",
      "Requirement already satisfied: chardet<3.1.0,>=3.0.2 in c:\\users\\kimyujin\\anaconda3\\lib\\site-packages (from requests->gtts) (3.0.4)\n",
      "Requirement already satisfied: urllib3!=1.25.0,!=1.25.1,<1.26,>=1.21.1 in c:\\users\\kimyujin\\anaconda3\\lib\\site-packages (from requests->gtts) (1.25.8)\n",
      "Requirement already satisfied: certifi>=2017.4.17 in c:\\users\\kimyujin\\anaconda3\\lib\\site-packages (from requests->gtts) (2019.11.28)\n",
      "Requirement already satisfied: idna<2.9,>=2.5 in c:\\users\\kimyujin\\anaconda3\\lib\\site-packages (from requests->gtts) (2.8)\n"
     ]
    }
   ],
   "source": [
    "!pip install gtts"
   ]
  },
  {
   "cell_type": "code",
   "execution_count": 2,
   "metadata": {},
   "outputs": [
    {
     "name": "stdout",
     "output_type": "stream",
     "text": [
      "Requirement already satisfied: pygame in c:\\users\\kimyujin\\anaconda3\\lib\\site-packages (1.9.6)\n"
     ]
    }
   ],
   "source": [
    "!pip install pygame"
   ]
  },
  {
   "cell_type": "code",
   "execution_count": 3,
   "metadata": {},
   "outputs": [
    {
     "name": "stdout",
     "output_type": "stream",
     "text": [
      "pygame 1.9.6\n",
      "Hello from the pygame community. https://www.pygame.org/contribute.html\n"
     ]
    }
   ],
   "source": [
    "import io\n",
    "import pygame\n",
    "from gtts import gTTS\n",
    "\n",
    "# To play audio text-to-speech during execution\n",
    "def speakEN(my_text):\n",
    "    with io.BytesIO() as f:\n",
    "        gTTS(text=my_text, lang='en').write_to_fp(f)\n",
    "        f.seek(0)\n",
    "        pygame.mixer.init()\n",
    "        pygame.mixer.music.load(f)\n",
    "        pygame.mixer.music.play()\n",
    "        while pygame.mixer.music.get_busy():\n",
    "            continue\n",
    "\n",
    "def speakKO(my_text):\n",
    "    with io.BytesIO() as f:\n",
    "        gTTS(text=my_text, lang='ko').write_to_fp(f)\n",
    "        f.seek(0)\n",
    "        pygame.mixer.init()\n",
    "        pygame.mixer.music.load(f)\n",
    "        pygame.mixer.music.play()\n",
    "        while pygame.mixer.music.get_busy():\n",
    "            continue"
   ]
  },
  {
   "cell_type": "code",
   "execution_count": 6,
   "metadata": {},
   "outputs": [
    {
     "name": "stdout",
     "output_type": "stream",
     "text": [
      "Enter your name: Yujin\n",
      "Welcome to one-stop GNI program Yujin!\n"
     ]
    }
   ],
   "source": [
    "Username=input('Enter your name: ')\n",
    "print('Welcome to one-stop GNI program '+Username+'!')\n",
    "speakEN('Welcome to one-stop GNI program '+Username)"
   ]
  },
  {
   "cell_type": "code",
   "execution_count": 7,
   "metadata": {},
   "outputs": [
    {
     "name": "stdout",
     "output_type": "stream",
     "text": [
      "-- If you use Korean, type 안녕. \n",
      "-- If you use English, type Hello. \n",
      "\n",
      "\n",
      "안녕\n",
      "-- 안녕하세요 Yujin님\n"
     ]
    }
   ],
   "source": [
    "print('-- If you use Korean, type 안녕. \\n-- If you use English, type Hello. \\n\\n')\n",
    "speakEN('If you use Korean, type 안녕. If you use English, type Hello.')\n",
    "language=input('')\n",
    "\n",
    "\n",
    "\n",
    "while True:\n",
    "    if language=='안녕':\n",
    "        lan='Ko'\n",
    "        print('-- 안녕하세요 '+Username+'님')\n",
    "        speakKO('-- 안녕하세요 '+Username+'님')\n",
    "        break\n",
    "    elif (language.upper()=='HELLO'):\n",
    "        lan='EN'\n",
    "        print('-- Hello '+Username)\n",
    "        speakEN('-- Hello '+Username)\n",
    "        break\n",
    "    else:\n",
    "        print('-- Your input is wrong. Please try again.\\n')\n",
    "        language=input('-- If you use Korean, type 안녕. \\n-- If you use English, type Hello. \\n\\n')"
   ]
  },
  {
   "cell_type": "code",
   "execution_count": null,
   "metadata": {},
   "outputs": [],
   "source": [
    "def selectionKo:\n",
    "    while True:\n",
    "        selection=input('어떤 작업을 하길 원하시나요? 원하는 작업의 번호를 입력해주세요. \\nEX) 1')\n",
    "        if selection==1:\n",
    "        elif selection==2:\n",
    "        elif selection==3:\n",
    "        elif selection==4:\n",
    "        elif selection==5:\n",
    "        else:\n",
    "            print(\"해당 번호의 작업은 존재하지 않습니다. 다시 입력해주세요.\")\n",
    "            "
   ]
  }
 ],
 "metadata": {
  "kernelspec": {
   "display_name": "Python 3",
   "language": "python",
   "name": "python3"
  },
  "language_info": {
   "codemirror_mode": {
    "name": "ipython",
    "version": 3
   },
   "file_extension": ".py",
   "mimetype": "text/x-python",
   "name": "python",
   "nbconvert_exporter": "python",
   "pygments_lexer": "ipython3",
   "version": "3.7.6"
  }
 },
 "nbformat": 4,
 "nbformat_minor": 4
}
